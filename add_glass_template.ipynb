{
 "cells": [
  {
   "cell_type": "code",
   "execution_count": null,
   "metadata": {},
   "outputs": [],
   "source": [
    "import cv2\n",
    "import imutils\n",
    "import dlib\n",
    "import numpy as np\n",
    "import matplotlib.pyplot as plt"
   ]
  },
  {
   "cell_type": "code",
   "execution_count": null,
   "metadata": {},
   "outputs": [],
   "source": [
    "glasses = cv2.imread(\"./data/glass_template.png\", -1)\n",
    "glasses = glasses[150:800,:]\n",
    "\n",
    "plt.imshow(cv2.cvtColor(glasses,cv2.COLOR_RGBA2RGB))"
   ]
  },
  {
   "cell_type": "code",
   "execution_count": null,
   "metadata": {},
   "outputs": [],
   "source": [
    "no_glasses_array = np.load('./data//no_glasses.npy')\n",
    "\n",
    "fig = plt.figure(figsize=[3,3])\n",
    "plt.imshow(no_glasses_array[0])"
   ]
  },
  {
   "cell_type": "code",
   "execution_count": null,
   "metadata": {},
   "outputs": [],
   "source": [
    "detector = dlib.get_frontal_face_detector()\n",
    "predictor = dlib.shape_predictor(\"./models/shape_predictor_68_face_landmarks.dat\")"
   ]
  },
  {
   "cell_type": "code",
   "execution_count": null,
   "metadata": {},
   "outputs": [],
   "source": [
    "def image_subtract(a, b):\n",
    "    \"\"\"Subtract two uint8 arrays without overflow.\"\"\"\n",
    "    # Compute the subtraction in a larger data type (e.g., int16)\n",
    "    result = a.astype(np.int16) - b.astype(np.int16)\n",
    "    # Clip the result to the range [0, 255]\n",
    "    result = np.clip(result, 0, 255)\n",
    "    # Convert the result back to uint8\n",
    "    return result.astype(np.uint8)"
   ]
  },
  {
   "cell_type": "code",
   "execution_count": null,
   "metadata": {},
   "outputs": [],
   "source": [
    "def apply_glass_template(image):\n",
    "    \n",
    "    gray = cv2.cvtColor(image, cv2.COLOR_RGB2GRAY)\n",
    "    dets = detector(gray, 1)\n",
    "\n",
    "    #find face box bounding points\n",
    "    for d in dets:\n",
    "\n",
    "        x = d.left()\n",
    "        y = d.top()\n",
    "        w = d.right()\n",
    "        h = d.bottom()\n",
    "\n",
    "    dlib_rect = dlib.rectangle(x, y, w, h)\n",
    "\n",
    "    ##############   Find facial landmarks   ##############\n",
    "    detected_landmarks = predictor(gray, dlib_rect).parts()\n",
    "\n",
    "    landmarks = np.matrix([[p.x, p.y] for p in detected_landmarks])\n",
    "\n",
    "    for idx, point in enumerate(landmarks):\n",
    "        pos = (point[0, 0], point[0, 1])\n",
    "        if idx == 0:\n",
    "            eye_left = pos\n",
    "        elif idx == 16:\n",
    "            eye_right = pos\n",
    "\n",
    "    eye_center = (eye_left[1] + eye_right[1]) / 2\n",
    "\n",
    "    #glasses translation\n",
    "    glass_trans = int(.4 * (eye_center - y))\n",
    "\n",
    "    # resize glasses to width of face and blend images\n",
    "    if w > 112:\n",
    "        w = 112\n",
    "    if h > 112:\n",
    "        h = 112\n",
    "\n",
    "    face_width = w - x\n",
    "\n",
    "    # resize_glasses\n",
    "    glasses_resize = imutils.resize(glasses, face_width)\n",
    "\n",
    "    yG, xG, cG = glasses_resize.shape\n",
    "    glasses_resize = cv2.cvtColor(255 - cv2.cvtColor(glasses_resize, cv2.COLOR_RGBA2GRAY),cv2.COLOR_GRAY2RGB)\n",
    "\n",
    "    image_fit = image[y + glass_trans:y + yG + glass_trans, x:w]\n",
    "    \n",
    "    blend = image_subtract(image_fit,glasses_resize)\n",
    "\n",
    "    h5, w5, s5 = image_fit.shape\n",
    "    image[y + glass_trans:y + h5 + glass_trans, x:x+w5 ] = blend\n",
    "\n",
    "    return image\n"
   ]
  },
  {
   "cell_type": "code",
   "execution_count": null,
   "metadata": {},
   "outputs": [],
   "source": [
    "result_array = np.zeros_like(no_glasses_array)\n",
    "\n",
    "for i in range(no_glasses_array.shape[0]):\n",
    "    result_array[i] = apply_glass_template(no_glasses_array[i])"
   ]
  },
  {
   "cell_type": "code",
   "execution_count": null,
   "metadata": {},
   "outputs": [],
   "source": [
    "np.save('./data//template_glasses.npy',result_array)"
   ]
  }
 ],
 "metadata": {
  "kernelspec": {
   "display_name": "Python 3 (ipykernel)",
   "language": "python",
   "name": "python3"
  },
  "language_info": {
   "codemirror_mode": {
    "name": "ipython",
    "version": 3
   },
   "file_extension": ".py",
   "mimetype": "text/x-python",
   "name": "python",
   "nbconvert_exporter": "python",
   "pygments_lexer": "ipython3",
   "version": "3.10.12"
  }
 },
 "nbformat": 4,
 "nbformat_minor": 2
}
