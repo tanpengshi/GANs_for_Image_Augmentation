{
 "cells": [
  {
   "cell_type": "code",
   "execution_count": 1,
   "metadata": {},
   "outputs": [
    {
     "name": "stderr",
     "output_type": "stream",
     "text": [
      "c:\\Users\\tanpe\\anaconda3\\envs\\personal\\lib\\site-packages\\numpy\\_distributor_init.py:30: UserWarning: loaded more than 1 DLL from .libs:\n",
      "c:\\Users\\tanpe\\anaconda3\\envs\\personal\\lib\\site-packages\\numpy\\.libs\\libopenblas64__v0.3.21-gcc_10_3_0.dll\n",
      "c:\\Users\\tanpe\\anaconda3\\envs\\personal\\lib\\site-packages\\numpy\\.libs\\libopenblas64__v0.3.23-246-g3d31191b-gcc_10_3_0.dll\n",
      "  warnings.warn(\"loaded more than 1 DLL from .libs:\"\n"
     ]
    }
   ],
   "source": [
    "import signal\n",
    "import numpy as np\n",
    "import tensorflow as tf\n",
    "\n",
    "from sklearn.model_selection import train_test_split\n",
    "\n",
    "from tensorflow.keras.applications import ResNet50V2\n",
    "from tensorflow.keras.applications.resnet_v2 import preprocess_input\n",
    "from tensorflow.keras.optimizers import RMSprop, Adam\n",
    "from tensorflow.keras.callbacks import EarlyStopping\n",
    "from tensorflow.keras.models import Sequential\n",
    "from tensorflow.keras.layers import Dense,Dropout,GlobalAveragePooling2D"
   ]
  },
  {
   "cell_type": "code",
   "execution_count": 3,
   "metadata": {},
   "outputs": [],
   "source": [
    "pretrained_model = ResNet50V2(\n",
    "    weights='imagenet', \n",
    "    include_top=False, \n",
    "    input_shape=(112,112,3)\n",
    ")\n",
    "\n",
    "unfreezed = [\n",
    "    'conv4_block5_1_conv',\n",
    "    'conv4_block5_2_conv',\n",
    "    'conv4_block5_3_conv',\n",
    "    'conv4_block6_1_conv',\n",
    "    'conv4_block6_2_conv',\n",
    "    'conv4_block6_3_conv',\n",
    "    'conv5_block1_1_conv',\n",
    "    'conv5_block1_2_conv',\n",
    "    'conv5_block1_3_conv',\n",
    "    'conv5_block2_1_conv',\n",
    "    'conv5_block2_2_conv',\n",
    "    'conv5_block2_3_conv',\n",
    "    'conv5_block3_1_conv',\n",
    "    'conv5_block3_2_conv',\n",
    "    'conv5_block3_3_conv',\n",
    "    ]\n",
    "\n",
    "\n",
    "for layer in pretrained_model.layers:\n",
    "    \n",
    "    if layer.name in unfreezed:\n",
    "        layer.trainable = True\n",
    "    else:\n",
    "        layer.trainable = False"
   ]
  },
  {
   "cell_type": "code",
   "execution_count": 4,
   "metadata": {},
   "outputs": [],
   "source": [
    "no_glasses_array = np.load('./data/T81-855_glasses_dataset/no_glasses.npy')\n",
    "glasses_array = np.load('./data/T81-855_glasses_dataset/glasses.npy')\n",
    "generated_glasses_1 = np.load('./data/T81-855_glasses_dataset/generated_glasses_1.npy')\n",
    "generated_glasses_2 = np.load('./data/T81-855_glasses_dataset/generated_glasses_2.npy')\n",
    "\n",
    "random_arrays_indices = np.random.choice(len(generated_glasses_1),int(len(generated_glasses_1)/1),replace=False)\n",
    "generated_glasses_1 = generated_glasses_1[random_arrays_indices]\n",
    "\n",
    "random_arrays_indices = np.random.choice(len(generated_glasses_2),int(len(generated_glasses_2)/2),replace=False)\n",
    "generated_glasses_2 = generated_glasses_2[random_arrays_indices]"
   ]
  },
  {
   "cell_type": "code",
   "execution_count": null,
   "metadata": {},
   "outputs": [],
   "source": [
    "feature_array = np.concatenate(\n",
    "    [\n",
    "        no_glasses_array,\n",
    "        glasses_array,\n",
    "        generated_glasses_1,\n",
    "        generated_glasses_2\n",
    "    ],\n",
    "    axis=0\n",
    ") \n",
    "\n",
    "feature_array = preprocess_input(feature_array)\n",
    "\n",
    "target_array = np.concatenate([\n",
    "    np.zeros(2200),\n",
    "    np.ones(2200),\n",
    "    np.ones(len(generated_glasses_1)+len(generated_glasses_2))*2\n",
    "])"
   ]
  },
  {
   "cell_type": "code",
   "execution_count": null,
   "metadata": {},
   "outputs": [],
   "source": [
    "X_train, X_test, y_train, y_test = train_test_split(\n",
    "    feature_array,\n",
    "    target_array,\n",
    "    test_size=0.05,\n",
    "    stratify=target_array,\n",
    "    random_state=42\n",
    ")"
   ]
  },
  {
   "cell_type": "code",
   "execution_count": null,
   "metadata": {},
   "outputs": [],
   "source": [
    "model = tf.keras.models.Sequential([\n",
    "    pretrained_model,\n",
    "    GlobalAveragePooling2D(),    \n",
    "    Dense(512,activation=\"relu\"),\n",
    "    Dropout(0.7),\n",
    "    Dense(128,activation=\"relu\"),\n",
    "    Dropout(0.3), \n",
    "    Dense(32,activation=\"tanh\"),\n",
    "    Dropout(0.2), \n",
    "    Dense(3, activation='softmax')\n",
    "])\n",
    "\n",
    "model.compile(optimizer=RMSprop(learning_rate=3e-5),\n",
    "              loss=\"sparse_categorical_crossentropy\",\n",
    "              metrics=['accuracy'])"
   ]
  },
  {
   "cell_type": "code",
   "execution_count": null,
   "metadata": {},
   "outputs": [],
   "source": [
    "class KeyboardInterruptCallback(tf.keras.callbacks.Callback):\n",
    "    def __init__(self):\n",
    "        super().__init__()\n",
    "        self.original_sigint_handler = None\n",
    "        self._training_pid = None\n",
    "        self.best_epoch = None\n",
    "        self.best_weights = None\n",
    "\n",
    "    def on_train_begin(self, logs=None):\n",
    "        self.original_sigint_handler = signal.signal(signal.SIGINT, self.interrupt_training)\n",
    "        self._training_pid = os.getpid()\n",
    "        self.best_val_loss = float('inf')\n",
    "\n",
    "    def on_train_end(self, logs=None):\n",
    "        signal.signal(signal.SIGINT, self.original_sigint_handler)\n",
    "        self.original_sigint_handler = None\n",
    "        self._training_pid = None\n",
    "\n",
    "    def on_epoch_end(self, epoch, logs=None):\n",
    "        if logs['val_loss'] < self.best_val_loss:\n",
    "            self.best_epoch = epoch\n",
    "            self.best_val_loss = logs['val_loss']\n",
    "            self.best_weights = self.model.get_weights()\n",
    "        \n",
    "        logs['best_val_loss'] = self.best_val_loss\n",
    "\n",
    "    def interrupt_training(self, signum, frame):\n",
    "        if self._training_pid == os.getpid():\n",
    "            print(f\"Keyboard interrupt detected. Restoring weights from Epoch {self.best_epoch+1}\")\n",
    "            self.model.set_weights(self.best_weights)\n",
    "            self.model.stop_training = True            \n",
    "\n",
    "keyboard_interrupt_callback = KeyboardInterruptCallback()\n",
    "\n",
    "early_stopping_callback = tf.keras.callbacks.EarlyStopping(\n",
    "    patience=10,\n",
    "    verbose=1,\n",
    "    restore_best_weights=True,\n",
    "    monitor='val_loss'\n",
    ")\n",
    "\n",
    "callbacks=[keyboard_interrupt_callback, early_stopping_callback]"
   ]
  },
  {
   "cell_type": "code",
   "execution_count": null,
   "metadata": {},
   "outputs": [],
   "source": [
    "model.fit(\n",
    "    X_train,\n",
    "    y_train,\n",
    "    epochs=200, \n",
    "    batch_size=32,\n",
    "    validation_data=(X_test,y_test),\n",
    "    callbacks=callbacks\n",
    ")"
   ]
  },
  {
   "cell_type": "code",
   "execution_count": null,
   "metadata": {},
   "outputs": [],
   "source": [
    "model.save('models/discriminator')\n",
    "model.layers[0].save('models/discriminator_resnet')"
   ]
  }
 ],
 "metadata": {
  "kernelspec": {
   "display_name": "Python 3 (ipykernel)",
   "language": "python",
   "name": "python3"
  },
  "language_info": {
   "codemirror_mode": {
    "name": "ipython",
    "version": 3
   },
   "file_extension": ".py",
   "mimetype": "text/x-python",
   "name": "python",
   "nbconvert_exporter": "python",
   "pygments_lexer": "ipython3",
   "version": "3.10.12"
  }
 },
 "nbformat": 4,
 "nbformat_minor": 2
}
